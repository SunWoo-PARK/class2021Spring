{
  "nbformat": 4,
  "nbformat_minor": 0,
  "metadata": {
    "colab": {
      "name": "3.22수업내용.ipynb",
      "provenance": [],
      "authorship_tag": "ABX9TyNfNT+Qpu2SWjIsg97vrZCf",
      "include_colab_link": true
    },
    "kernelspec": {
      "name": "python3",
      "display_name": "Python 3"
    },
    "language_info": {
      "name": "python"
    }
  },
  "cells": [
    {
      "cell_type": "markdown",
      "metadata": {
        "id": "view-in-github",
        "colab_type": "text"
      },
      "source": [
        "<a href=\"https://colab.research.google.com/github/SunWoo-PARK/class2021Spring/blob/main/3.22%EC%88%98%EC%97%85%EB%82%B4%EC%9A%A9.ipynb\" target=\"_parent\"><img src=\"https://colab.research.google.com/assets/colab-badge.svg\" alt=\"Open In Colab\"/></a>"
      ]
    },
    {
      "cell_type": "markdown",
      "metadata": {
        "id": "Bm_RX-HhZ_lm"
      },
      "source": [
        "**2차함수**"
      ]
    },
    {
      "cell_type": "code",
      "metadata": {
        "id": "39GRk3zSZ2Eb"
      },
      "source": [
        "def func2 (x, a, b, c):\n",
        "  y = a*x**2 + b*x + c\n",
        "  return y"
      ],
      "execution_count": null,
      "outputs": []
    },
    {
      "cell_type": "markdown",
      "metadata": {
        "id": "c2RNpwPRaxa4"
      },
      "source": [
        "**클래스**"
      ]
    },
    {
      "cell_type": "markdown",
      "metadata": {
        "id": "6RN1qRqRa0Tm"
      },
      "source": [
        "함수 module\\\n",
        "class oop"
      ]
    },
    {
      "cell_type": "code",
      "metadata": {
        "id": "LyZIQcaNcFkU"
      },
      "source": [
        "class cal:\n",
        "  def __init__(self):\n",
        "    self.result = 0 #나 자신의 변수에 0을 입력\n",
        "  def add(self, n):\n",
        "    self.result += n\n",
        "    return self.result"
      ],
      "execution_count": null,
      "outputs": []
    },
    {
      "cell_type": "code",
      "metadata": {
        "colab": {
          "base_uri": "https://localhost:8080/"
        },
        "id": "HGQSmvNQcQvK",
        "outputId": "30c7c680-f6e4-4d59-c1a5-71889a260556"
      },
      "source": [
        "A = cal() #클래스를 가지고 A라는 것을 만듦, 이 때 A는 개체 이것만 실행하면 위 코드 두줄까지 실행됨\n",
        "A.result #L3이 실행됨"
      ],
      "execution_count": null,
      "outputs": [
        {
          "output_type": "execute_result",
          "data": {
            "text/plain": [
              "0"
            ]
          },
          "metadata": {
            "tags": []
          },
          "execution_count": 13
        }
      ]
    },
    {
      "cell_type": "code",
      "metadata": {
        "colab": {
          "base_uri": "https://localhost:8080/"
        },
        "id": "BbGHfed8cqxV",
        "outputId": "8ae67897-7b9b-474a-f99e-5c36a3d399b0"
      },
      "source": [
        "A.add(4) #A.add(n) self는 입력으로 들어가는 게 아니라 A 자체를 지칭 n이 입력"
      ],
      "execution_count": null,
      "outputs": [
        {
          "output_type": "execute_result",
          "data": {
            "text/plain": [
              "4"
            ]
          },
          "metadata": {
            "tags": []
          },
          "execution_count": 14
        }
      ]
    },
    {
      "cell_type": "code",
      "metadata": {
        "id": "XZnVDZzneMTx"
      },
      "source": [
        "#일차함수 함수의 정의\n",
        "def func(a, b, x): \n",
        "  y = a*x + b\n",
        "  return y"
      ],
      "execution_count": null,
      "outputs": []
    },
    {
      "cell_type": "markdown",
      "metadata": {
        "id": "-4CZ0Hc0fJ8x"
      },
      "source": [
        "**패키지**\\\n",
        "모듈은 ~.py해서 ~파일 내에 클래스와 function 등이 (여러개) 들어 있음 \\\n",
        "mod1, mod2, mod3 등 여러개가 한 폴더 속에 있을 수 있음 \\\n",
        "\n",
        "패키지는 모듈 들어있는 파일 여러개를 묶은 것\\\n",
        "모듈이랑 패키지 함수 쓰는 법이 중요한 이유 import를 쓰는 것과 관련"
      ]
    },
    {
      "cell_type": "markdown",
      "metadata": {
        "id": "PxqXyU13gDp0"
      },
      "source": [
        "**import**"
      ]
    },
    {
      "cell_type": "code",
      "metadata": {
        "id": "ZPDXqjBifYaQ"
      },
      "source": [
        "import numpy as np\n",
        "n = np.random.randn(100) #100개의 랜덤 숫자 만들어냄, 그 숫자들 0을 중심으로 정규분포"
      ],
      "execution_count": 15,
      "outputs": []
    },
    {
      "cell_type": "code",
      "metadata": {
        "id": "CXK5hpkMgJ2l"
      },
      "source": [
        "import matplotlib #matplotlib(데이터시각화와 관련됨)이라는 패키지 속에 \n",
        "import matplotlib.pyplot #pyplot이라는 모듈(.py)\n",
        "from matplotlib import pyplot \n",
        "from matplotlib.pyplot import hist #모듈 속 hist라는 function 불러오기 "
      ],
      "execution_count": 16,
      "outputs": []
    },
    {
      "cell_type": "code",
      "metadata": {
        "colab": {
          "base_uri": "https://localhost:8080/",
          "height": 361
        },
        "id": "7pTJvPVehBx5",
        "outputId": "bbbf4974-a7ae-4245-b9f6-b6a801d62485"
      },
      "source": [
        "import matplotlib\n",
        "matplotlib.pyplot.hist(n)"
      ],
      "execution_count": 17,
      "outputs": [
        {
          "output_type": "execute_result",
          "data": {
            "text/plain": [
              "(array([ 1.,  2.,  8., 14., 16., 24., 15., 15.,  2.,  3.]),\n",
              " array([-2.64185941, -2.1490999 , -1.65634038, -1.16358087, -0.67082135,\n",
              "        -0.17806184,  0.31469767,  0.80745719,  1.3002167 ,  1.79297622,\n",
              "         2.28573573]),\n",
              " <a list of 10 Patch objects>)"
            ]
          },
          "metadata": {
            "tags": []
          },
          "execution_count": 17
        },
        {
          "output_type": "display_data",
          "data": {
            "image/png": "[encoded data removed]",
            "text/plain": [
              "<Figure size 432x288 with 1 Axes>"
            ]
          },
          "metadata": {
            "tags": [],
            "needs_background": "light"
          }
        }
      ]
    },
    {
      "cell_type": "code",
      "metadata": {
        "colab": {
          "base_uri": "https://localhost:8080/",
          "height": 361
        },
        "id": "Hs6H9P57hRM3",
        "outputId": "da1a4261-79c5-4927-8bfc-2f2b405673fe"
      },
      "source": [
        "import matplotlib.pyplot\n",
        "matplotlib.pyplot.hist(n)"
      ],
      "execution_count": 18,
      "outputs": [
        {
          "output_type": "execute_result",
          "data": {
            "text/plain": [
              "(array([ 1.,  2.,  8., 14., 16., 24., 15., 15.,  2.,  3.]),\n",
              " array([-2.64185941, -2.1490999 , -1.65634038, -1.16358087, -0.67082135,\n",
              "        -0.17806184,  0.31469767,  0.80745719,  1.3002167 ,  1.79297622,\n",
              "         2.28573573]),\n",
              " <a list of 10 Patch objects>)"
            ]
          },
          "metadata": {
            "tags": []
          },
          "execution_count": 18
        },
        {
          "output_type": "display_data",
          "data": {
            "image/png": "[encoded data removed]",
            "text/plain": [
              "<Figure size 432x288 with 1 Axes>"
            ]
          },
          "metadata": {
            "tags": [],
            "needs_background": "light"
          }
        }
      ]
    },
    {
      "cell_type": "code",
      "metadata": {
        "id": "D3C2GMrthUe-"
      },
      "source": [
        "from matplotlib import pyplot\n",
        "pyplot.hist(n) #import한 것의 이름만 불러주면 되므로 matplotlib은 안써줘도 됨됨"
      ],
      "execution_count": null,
      "outputs": []
    }
  ]
}