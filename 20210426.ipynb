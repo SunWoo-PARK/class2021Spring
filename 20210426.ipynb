{
  "nbformat": 4,
  "nbformat_minor": 0,
  "metadata": {
    "colab": {
      "name": "20210426.ipynb",
      "provenance": [],
      "authorship_tag": "ABX9TyNSKuMLncjCgrzsKVfGTWbr",
      "include_colab_link": true
    },
    "kernelspec": {
      "name": "python3",
      "display_name": "Python 3"
    },
    "language_info": {
      "name": "python"
    }
  },
  "cells": [
    {
      "cell_type": "markdown",
      "metadata": {
        "id": "view-in-github",
        "colab_type": "text"
      },
      "source": [
        "<a href=\"https://colab.research.google.com/github/SunWoo-PARK/class2021Spring/blob/main/20210426.ipynb\" target=\"_parent\"><img src=\"https://colab.research.google.com/assets/colab-badge.svg\" alt=\"Open In Colab\"/></a>"
      ]
    },
    {
      "cell_type": "code",
      "metadata": {
        "id": "spmfb09Dyx13"
      },
      "source": [
        "%matplotlib inline\n",
        "from matplotlib import pyplot as plt\n",
        "import IPython.display as ipd\n",
        "import numpy as np\n",
        "from scipy.signal import lfilter"
      ],
      "execution_count": 4,
      "outputs": []
    },
    {
      "cell_type": "code",
      "metadata": {
        "id": "zMRDSZJUx3xY"
      },
      "source": [
        "def phasor(amp, sr, dur, freq):\n",
        "    time = np.arange(1, sr*dur*1)/sr;\n",
        "    theta = time * 2*np.pi * freq;\n",
        "    s = np.sin(theta);\n",
        "    return s, theta, time"
      ],
      "execution_count": 9,
      "outputs": []
    },
    {
      "cell_type": "code",
      "metadata": {
        "colab": {
          "base_uri": "https://localhost:8080/"
        },
        "id": "XS8_78-1yfMH",
        "outputId": "2b56c98e-d1c3-433a-c104-8124a349a8c3"
      },
      "source": [
        "phasor(1, 10000, 0.5, 100)"
      ],
      "execution_count": 10,
      "outputs": [
        {
          "output_type": "execute_result",
          "data": {
            "text/plain": [
              "(array([ 0.06279052,  0.12533323,  0.18738131, ..., -0.18738131,\n",
              "        -0.12533323, -0.06279052]),\n",
              " array([6.28318531e-02, 1.25663706e-01, 1.88495559e-01, ...,\n",
              "        3.13970770e+02, 3.14033602e+02, 3.14096434e+02]),\n",
              " array([1.000e-04, 2.000e-04, 3.000e-04, ..., 4.997e-01, 4.998e-01,\n",
              "        4.999e-01]))"
            ]
          },
          "metadata": {
            "tags": []
          },
          "execution_count": 10
        }
      ]
    },
    {
      "cell_type": "code",
      "metadata": {
        "id": "r_abpzuGy85p"
      },
      "source": [
        ""
      ],
      "execution_count": null,
      "outputs": []
    }
  ]
}