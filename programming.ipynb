{
  "nbformat": 4,
  "nbformat_minor": 0,
  "metadata": {
    "colab": {
      "name": "programming.ipynb",
      "provenance": [],
      "authorship_tag": "ABX9TyNEIPvWgmYUfSy19VIG2fe4",
      "include_colab_link": true
    },
    "kernelspec": {
      "name": "python3",
      "display_name": "Python 3"
    }
  },
  "cells": [
    {
      "cell_type": "markdown",
      "metadata": {
        "id": "view-in-github",
        "colab_type": "text"
      },
      "source": [
        "<a href=\"https://colab.research.google.com/github/SunWoo-PARK/class2021Spring/blob/main/programming.ipynb\" target=\"_parent\"><img src=\"https://colab.research.google.com/assets/colab-badge.svg\" alt=\"Open In Colab\"/></a>"
      ]
    },
    {
      "cell_type": "code",
      "metadata": {
        "id": "VVOt2VgOo1_U"
      },
      "source": [
        ""
      ],
      "execution_count": null,
      "outputs": []
    },
    {
      "cell_type": "markdown",
      "metadata": {
        "id": "fWqgHkuHo2ji"
      },
      "source": [
        "1. 변수\r\n",
        "*   파이썬에서 변수는 그 안에 값을 할당하는 것으로 변할 수 있음\r\n",
        "*   이를테면 a = 4 라고 하면 a라는 변수에 4라는 값을 할당한 것\r\n",
        "\r\n",
        "2. 제어문\r\n",
        "*   우리의 용어가 문법을 필요하듯 컴퓨터 언어에서 사용되는 일종의 문법 \r\n",
        "\r\n",
        "3. 함수 \r\n",
        "*   입력이 있으면 출력이 있는 관계\r\n",
        "*   세상의 모든 것은 함수로 이루어져 있음 \r\n",
        "\r\n"
      ]
    }
  ]
}