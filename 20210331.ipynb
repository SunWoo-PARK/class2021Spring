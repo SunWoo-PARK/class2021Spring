{
  "nbformat": 4,
  "nbformat_minor": 0,
  "metadata": {
    "colab": {
      "name": "20210331.ipynb",
      "provenance": [],
      "authorship_tag": "ABX9TyOVt4q+ZOsZroaCHuYtju0k",
      "include_colab_link": true
    },
    "kernelspec": {
      "name": "python3",
      "display_name": "Python 3"
    },
    "language_info": {
      "name": "python"
    }
  },
  "cells": [
    {
      "cell_type": "markdown",
      "metadata": {
        "id": "view-in-github",
        "colab_type": "text"
      },
      "source": [
        "<a href=\"https://colab.research.google.com/github/SunWoo-PARK/class2021Spring/blob/main/20210331.ipynb\" target=\"_parent\"><img src=\"https://colab.research.google.com/assets/colab-badge.svg\" alt=\"Open In Colab\"/></a>"
      ]
    },
    {
      "cell_type": "markdown",
      "metadata": {
        "id": "5OoRUEwN46cF"
      },
      "source": [
        "[아]\n",
        "*   pitch : 1783 Hz\n",
        "*   intensity : 86.55dB\n",
        "*   formants : 911 Hz (F1), 1453 Hz (F2)\n",
        "\n"
      ]
    },
    {
      "cell_type": "markdown",
      "metadata": {
        "id": "50D0eBLE5g8P"
      },
      "source": [
        "[애]\n",
        "*   pitch :  1513Hz\n",
        "*   intensity : 78.62dB\n",
        "*   formants : 636 Hz (F1), 2278 Hz (F2)\n",
        "\n"
      ]
    }
  ]
}